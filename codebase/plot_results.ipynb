{
 "cells": [
  {
   "cell_type": "code",
   "execution_count": 1,
   "metadata": {},
   "outputs": [],
   "source": [
    "import cv2\n",
    "import datetime\n",
    "import matplotlib.pyplot as plt\n",
    "import numpy as np\n",
    "import os\n",
    "import pandas as pd\n",
    "\n",
    "from classicalStereo.datasetHandler import Dataset_Handler\n",
    "from classicalStereo.utils import compute_left_disparity_map, decompose_projection_matrix, stereo_2_depth, pointcloud2image, \\\n",
    "                                  match_features, extract_features, estimate_motion, filter_matches_distance, calc_depth_map\n",
    "from dlStereo.dataHandler_ChiTransformer import ChiTransformer_StereoDepth\n",
    "\n",
    "from utils import plot_odometry"
   ]
  },
  {
   "cell_type": "code",
   "execution_count": 2,
   "metadata": {},
   "outputs": [],
   "source": [
    "# # ODOMETRY PLOTS\n",
    "infer_fp       = 'C:/Users/nisar2/Desktop/final_543/inferences/final_results'\n",
    "output_plot_fp = 'C:/Users/nisar2/Desktop/final_543/database/result'\n",
    "sequences      = ['02', '00', '05']\n",
    "for seq in sequences:\n",
    "    plot_odometry(infer_fp,output_plot_fp,seq)"
   ]
  }
 ],
 "metadata": {
  "kernelspec": {
   "display_name": "Python 3",
   "language": "python",
   "name": "python3"
  },
  "language_info": {
   "codemirror_mode": {
    "name": "ipython",
    "version": 3
   },
   "file_extension": ".py",
   "mimetype": "text/x-python",
   "name": "python",
   "nbconvert_exporter": "python",
   "pygments_lexer": "ipython3",
   "version": "3.9.18"
  }
 },
 "nbformat": 4,
 "nbformat_minor": 2
}
